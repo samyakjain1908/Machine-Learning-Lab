{
  "nbformat": 4,
  "nbformat_minor": 0,
  "metadata": {
    "colab": {
      "provenance": [],
      "include_colab_link": true
    },
    "kernelspec": {
      "name": "python3",
      "display_name": "Python 3"
    },
    "language_info": {
      "name": "python"
    }
  },
  "cells": [
    {
      "cell_type": "markdown",
      "metadata": {
        "id": "view-in-github",
        "colab_type": "text"
      },
      "source": [
        "<a href=\"https://colab.research.google.com/github/samyakjain1908/Machine-Learning-Lab/blob/main/Lab_1_Assignment_1_4th_August_.ipynb\" target=\"_parent\"><img src=\"https://colab.research.google.com/assets/colab-badge.svg\" alt=\"Open In Colab\"/></a>"
      ]
    },
    {
      "cell_type": "markdown",
      "source": [
        "# Assignment - 1"
      ],
      "metadata": {
        "id": "DuUYtlOJmcgf"
      }
    },
    {
      "cell_type": "markdown",
      "source": [
        "Q.1. Write a program to print your name and Roll NO."
      ],
      "metadata": {
        "id": "7g2hXWqymwxE"
      }
    },
    {
      "cell_type": "code",
      "source": [
        "# Step 1: Store the user's name in a variable\n",
        "name = \"Samyak Jain\"\n",
        "\n",
        "# Step 2: Store the user's roll number in a variable\n",
        "roll_no = \"MCA/10058/24\"\n",
        "\n",
        "# Step 3: Print the details in a clean, readable format\n",
        "print(\"Name     :\", name)      # Display Name\n",
        "print(\"Roll No. :\", roll_no)   # Display Roll Number"
      ],
      "metadata": {
        "colab": {
          "base_uri": "https://localhost:8080/"
        },
        "id": "7XQSbxR_yHsj",
        "outputId": "bcd684d8-4cfb-4306-b7ae-e0900b9df2c1"
      },
      "execution_count": null,
      "outputs": [
        {
          "output_type": "stream",
          "name": "stdout",
          "text": [
            "Name     : Samyak Jain\n",
            "Roll No. : MCA/10058/24\n"
          ]
        }
      ]
    },
    {
      "cell_type": "markdown",
      "source": [
        "Q.2. Write a program to accept two numbers and add, subtract and divide them"
      ],
      "metadata": {
        "id": "zibixnC0oOqi"
      }
    },
    {
      "cell_type": "code",
      "source": [
        "# Step 1: Accept two numbers from the user\n",
        "# We use float to handle both integers and decimal numbers\n",
        "num1 = float(input(\"Enter the first number: \"))\n",
        "num2 = float(input(\"Enter the second number: \"))\n",
        "\n",
        "# Step 2: Perform the operations\n",
        "addition = num1 + num2           # Addition\n",
        "subtraction = num1 - num2        # Subtraction\n",
        "\n",
        "# To avoid division by zero, check if num2 is not zero\n",
        "if num2 != 0:\n",
        "    division = num1 / num2       # Division\n",
        "else:\n",
        "    division = \"Undefined (Cannot divide by zero)\"\n",
        "\n",
        "# Step 3: Display results\n",
        "print(f\"Addition       : {addition}\")\n",
        "print(f\"Subtraction    : {subtraction}\")\n",
        "print(f\"Division       : {division}\")"
      ],
      "metadata": {
        "colab": {
          "base_uri": "https://localhost:8080/"
        },
        "id": "gp2xU2qppxcm",
        "outputId": "3c6338f7-ba71-4ee1-f961-1ead2d0eb2bd"
      },
      "execution_count": null,
      "outputs": [
        {
          "output_type": "stream",
          "name": "stdout",
          "text": [
            "Enter the first number: 45\n",
            "Enter the second number: 67\n",
            "Addition       : 112.0\n",
            "Subtraction    : -22.0\n",
            "Division       : 0.6716417910447762\n"
          ]
        }
      ]
    },
    {
      "cell_type": "markdown",
      "source": [
        "Q.3. Write a program to accept two strings and concate them.\n",
        "\n"
      ],
      "metadata": {
        "id": "dEnjLVtYp4sH"
      }
    },
    {
      "cell_type": "code",
      "source": [
        "# Step 1: Accept two strings from the user\n",
        "string1 = input(\"Enter the first string: \")\n",
        "string2 = input(\"Enter the second string: \")\n",
        "\n",
        "# Step 2: Concatenate the strings using the '+' operator\n",
        "concatenated_string = string1 + \" \" + string2\n",
        "\n",
        "# Step 3: Display the concatenated result\n",
        "print(concatenated_string)\n"
      ],
      "metadata": {
        "colab": {
          "base_uri": "https://localhost:8080/"
        },
        "id": "7A6rQROJqO7w",
        "outputId": "17f75a26-3861-4a05-a68e-ac485930570c"
      },
      "execution_count": null,
      "outputs": [
        {
          "output_type": "stream",
          "name": "stdout",
          "text": [
            "Enter the first string: Ram is a boy.\n",
            "Enter the second string: He loves to play cricket.\n",
            "Ram is a boy. He loves to play cricket.\n"
          ]
        }
      ]
    },
    {
      "cell_type": "markdown",
      "source": [
        "Q.4. Write a program to accept three numbers and find the greatest among them."
      ],
      "metadata": {
        "id": "wp6hrL_OqiGM"
      }
    },
    {
      "cell_type": "code",
      "source": [
        "# Step 1: Accept three numbers from the user\n",
        "num1 = float(input(\"Enter the first number: \"))\n",
        "num2 = float(input(\"Enter the second number: \"))\n",
        "num3 = float(input(\"Enter the third number: \"))\n",
        "\n",
        "# Step 2: Determine the greatest number\n",
        "if num1 >= num2 and num1 >= num3:\n",
        "    greatest = num1\n",
        "elif num2 >= num1 and num2 >= num3:\n",
        "    greatest = num2\n",
        "else:\n",
        "    greatest = num3\n",
        "\n",
        "# Step 3: Display the result\n",
        "print(f\"The greatest number is: {greatest}\")"
      ],
      "metadata": {
        "id": "94AiwWxAqX81",
        "colab": {
          "base_uri": "https://localhost:8080/"
        },
        "outputId": "d59e48bb-f7e6-43d0-845f-65ba494dfc70"
      },
      "execution_count": null,
      "outputs": [
        {
          "output_type": "stream",
          "name": "stdout",
          "text": [
            "Enter the first number: 34\n",
            "Enter the second number: 56\n",
            "Enter the third number: 78\n",
            "The greatest number is: 78.0\n"
          ]
        }
      ]
    },
    {
      "cell_type": "markdown",
      "source": [
        "Q.5. Write a program to print \"India is the best\" 10 times."
      ],
      "metadata": {
        "id": "7hHzuTHjv0Qw"
      }
    },
    {
      "cell_type": "code",
      "source": [
        "# Step 1: Use a for loop to repeat the statement 10 times\n",
        "for i in range(10):\n",
        "    print(\"India is the best\")"
      ],
      "metadata": {
        "id": "b6rbUSiowVBk"
      },
      "execution_count": null,
      "outputs": []
    },
    {
      "cell_type": "markdown",
      "source": [
        "Q.6. Write a program to print first n elements of the Fibonacci Series"
      ],
      "metadata": {
        "id": "exopPgGjyZdS"
      }
    },
    {
      "cell_type": "code",
      "source": [
        "# Step 1: Accept the number of terms from the user\n",
        "n = int(input(\"Enter the number of terms: \"))\n",
        "\n",
        "# Step 2: Initialize the first two Fibonacci numbers\n",
        "a, b = 0, 1\n",
        "\n",
        "print(\"\\n===== Fibonacci Series =====\")\n",
        "\n",
        "# Step 3: Generate and print Fibonacci numbers\n",
        "for i in range(n):\n",
        "    print(a, end=\" \")  # Print the current term\n",
        "    a, b = b, a + b    # Update values for next iteration\n",
        "\n",
        "print(\"\\n============================\")"
      ],
      "metadata": {
        "colab": {
          "base_uri": "https://localhost:8080/"
        },
        "id": "Tal0GE1_ygm9",
        "outputId": "3335e342-a5b8-4aff-e2b9-8b380d47e18b"
      },
      "execution_count": null,
      "outputs": [
        {
          "output_type": "stream",
          "name": "stdout",
          "text": [
            "Enter the number of terms: 4\n",
            "\n",
            "===== Fibonacci Series =====\n",
            "0 1 1 2 \n",
            "============================\n"
          ]
        }
      ]
    },
    {
      "cell_type": "markdown",
      "source": [
        "Q.7. x has 5 values: 2,3,4,5,6 and y has 8, 9,13,16,17 y(cap) = w0+w1*x, where w1= 0.5 and w0= 1 Calculate SSE = summation of (y(cap) -y). Take 2 more value of w0 and w1"
      ],
      "metadata": {
        "id": "q4WL-ReLzHfR"
      }
    },
    {
      "cell_type": "code",
      "source": [
        "# Given data points (x: independent variable, y: dependent variable)\n",
        "x = [2, 3, 4, 5, 6]\n",
        "y = [8, 9, 13, 16, 17]\n",
        "\n",
        "# Function to calculate SSE for given w0 (intercept) and w1 (slope)\n",
        "def calculate_sse(w0, w1):\n",
        "    sse = 0\n",
        "    for xi, yi in zip(x, y):\n",
        "        y_cap = w0 + w1 * xi  # Predicted value\n",
        "        sse += (y_cap - yi) ** 2  # Squared error\n",
        "    return sse\n",
        "\n",
        "# Different (w0, w1) pairs to test\n",
        "weights = [\n",
        "    (1, 0.5),\n",
        "    (2, 2),\n",
        "    (3, 2.5)\n",
        "]\n",
        "\n",
        "# Display results in tabular format\n",
        "print(\"w0\\tw1\\tSSE\")\n",
        "print(\"-\" * 25)\n",
        "for w0, w1 in weights:\n",
        "    sse = calculate_sse(w0, w1)\n",
        "    print(f\"{w0}\\t{w1}\\t{sse:.2f}\")"
      ],
      "metadata": {
        "colab": {
          "base_uri": "https://localhost:8080/"
        },
        "id": "sSNbLSCtypFS",
        "outputId": "717461aa-20b7-4a7d-f32c-f54dbd7a809f"
      },
      "execution_count": null,
      "outputs": [
        {
          "output_type": "stream",
          "name": "stdout",
          "text": [
            "w0\tw1\tSSE\n",
            "-------------------------\n",
            "1\t0.5\t503.50\n",
            "2\t2\t39.00\n",
            "3\t2.5\t3.50\n"
          ]
        }
      ]
    },
    {
      "cell_type": "code",
      "source": [],
      "metadata": {
        "id": "suCiGae7zW-T"
      },
      "execution_count": null,
      "outputs": []
    }
  ]
}